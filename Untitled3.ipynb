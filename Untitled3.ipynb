{
 "cells": [
  {
   "cell_type": "code",
   "execution_count": 5,
   "id": "d94b587f-5306-46f5-9804-b67f8f355254",
   "metadata": {},
   "outputs": [
    {
     "name": "stdin",
     "output_type": "stream",
     "text": [
      "enter degree celcious 32\n"
     ]
    }
   ],
   "source": [
    "cel=int(input(\"enter degree celcious\"))"
   ]
  },
  {
   "cell_type": "code",
   "execution_count": 6,
   "id": "7190f6da-603c-4cf3-b0e9-306d2824f441",
   "metadata": {},
   "outputs": [],
   "source": [
    "DegreeFeh= (cel*9/5)+32"
   ]
  },
  {
   "cell_type": "code",
   "execution_count": 7,
   "id": "e3170cdc-b057-4f16-b73b-7c04ac76b9d0",
   "metadata": {},
   "outputs": [
    {
     "name": "stdout",
     "output_type": "stream",
     "text": [
      "89.6\n"
     ]
    }
   ],
   "source": [
    "print(DegreeFeh)"
   ]
  },
  {
   "cell_type": "code",
   "execution_count": null,
   "id": "6e009660-f3fb-4a7f-ae31-fa3a89fb303f",
   "metadata": {},
   "outputs": [],
   "source": []
  }
 ],
 "metadata": {
  "kernelspec": {
   "display_name": "Python 3 (ipykernel)",
   "language": "python",
   "name": "python3"
  },
  "language_info": {
   "codemirror_mode": {
    "name": "ipython",
    "version": 3
   },
   "file_extension": ".py",
   "mimetype": "text/x-python",
   "name": "python",
   "nbconvert_exporter": "python",
   "pygments_lexer": "ipython3",
   "version": "3.10.8"
  }
 },
 "nbformat": 4,
 "nbformat_minor": 5
}
