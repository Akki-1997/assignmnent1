{
 "cells": [
  {
   "cell_type": "code",
   "execution_count": 2,
   "id": "8caeaad4-f124-4bab-9020-ba058fe188f4",
   "metadata": {},
   "outputs": [
    {
     "name": "stdin",
     "output_type": "stream",
     "text": [
      "width 23\n"
     ]
    }
   ],
   "source": [
    "b=int(input(\"width\"))"
   ]
  },
  {
   "cell_type": "code",
   "execution_count": 3,
   "id": "d365bf6d-dafa-4459-ba4c-48afa6dcc74f",
   "metadata": {},
   "outputs": [
    {
     "name": "stdin",
     "output_type": "stream",
     "text": [
      "length 20\n"
     ]
    }
   ],
   "source": [
    "a=int(input(\"length\"))"
   ]
  },
  {
   "cell_type": "code",
   "execution_count": 4,
   "id": "265d4cc2-2d9b-42c2-a786-9cc6a2967703",
   "metadata": {},
   "outputs": [],
   "source": [
    "area = a*b"
   ]
  },
  {
   "cell_type": "code",
   "execution_count": 5,
   "id": "074b908b-187a-4644-85c1-7aa63c815a5c",
   "metadata": {},
   "outputs": [
    {
     "name": "stdout",
     "output_type": "stream",
     "text": [
      "460\n"
     ]
    }
   ],
   "source": [
    "print(area)"
   ]
  },
  {
   "cell_type": "code",
   "execution_count": null,
   "id": "45753031-46fc-4127-b476-3652c27b7c25",
   "metadata": {},
   "outputs": [],
   "source": []
  }
 ],
 "metadata": {
  "kernelspec": {
   "display_name": "Python 3 (ipykernel)",
   "language": "python",
   "name": "python3"
  },
  "language_info": {
   "codemirror_mode": {
    "name": "ipython",
    "version": 3
   },
   "file_extension": ".py",
   "mimetype": "text/x-python",
   "name": "python",
   "nbconvert_exporter": "python",
   "pygments_lexer": "ipython3",
   "version": "3.10.8"
  }
 },
 "nbformat": 4,
 "nbformat_minor": 5
}
